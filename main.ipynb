{
 "cells": [
  {
   "cell_type": "code",
   "execution_count": null,
   "metadata": {},
   "outputs": [],
   "source": [
    "from client import * \n",
    "import numpy as np \n",
    "import pickle\n",
    "from datetime import datetime \n",
    "import time\n",
    "import os"
   ]
  },
  {
   "cell_type": "code",
   "execution_count": null,
   "metadata": {},
   "outputs": [],
   "source": [
    "key = \"11yEVzHqnhB6ufF3DX93dzQ8SvIzTsnINY8bnCQTtmTOYioBVn\"\n",
    "key_ = \"blah\"\n",
    "overfit_vector = np.array([0.0, -1.45799022e-12, -2.28980078e-13,  4.62010753e-11, -1.75214813e-10, -1.83669770e-15,  8.52944060e-16,  2.29423303e-05, -2.04721003e-06, -1.59792834e-08,  9.98214034e-10])"
   ]
  },
  {
   "cell_type": "code",
   "execution_count": null,
   "metadata": {},
   "outputs": [],
   "source": [
    "def book_keeping():\n",
    "    date_today = datetime.today().strftime('%Y-%m-%d')\n",
    "    cwd = os.getcwd()\n",
    "    path = f'{cwd}/{date_today}'\n",
    "    try:\n",
    "        os.mkdir(path)\n",
    "    except:\n",
    "        pass\n",
    "    return path\n",
    "\n",
    "path = book_keeping()"
   ]
  },
  {
   "cell_type": "code",
   "execution_count": null,
   "metadata": {},
   "outputs": [],
   "source": [
    "# logs store all the relevant information about the generation\n",
    "logs = []\n",
    "called = 1 "
   ]
  },
  {
   "cell_type": "code",
   "execution_count": null,
   "metadata": {},
   "outputs": [],
   "source": [
    "# stores the logs of the best vector in every (list with 0 index->next_pop, 1->fitness,2->errors)\n",
    "best_logs = []"
   ]
  },
  {
   "cell_type": "code",
   "execution_count": null,
   "metadata": {},
   "outputs": [],
   "source": [
    "#global variables\n",
    "population = 8\n",
    "pool_size = 4\n",
    "n_parents = 0"
   ]
  },
  {
   "cell_type": "code",
   "execution_count": null,
   "metadata": {},
   "outputs": [],
   "source": [
    "def get_initial_logs(n = population):\n",
    "    log = {\"initial_pop\": False, \"mutations\": False, \"parents\": [], \"next_pop\": []}\n",
    "    population = np.zeros(shape = (n, 11))\n",
    "    for i in range(n):\n",
    "        rng = np.random.uniform(low = -0.30, high = 0.30, size=(1, 11))\n",
    "        #rng = np.random.normal(size=(1, 11))\n",
    "        population[i, :] = overfit_vector + rng*overfit_vector\n",
    "        \n",
    "    fitness_array = [fitness_function(list(v), weight = 1) for v in population]\n",
    "    fitness = [i[0] for i in fitness_array]\n",
    "    errors = [i[1] for i in fitness_array]\n",
    "    \n",
    "    log[\"errors\"] = errors\n",
    "    log[\"fitness\"] = fitness\n",
    "    log[\"next_pop\"] = population\n",
    "    return log"
   ]
  },
  {
   "cell_type": "code",
   "execution_count": null,
   "metadata": {},
   "outputs": [],
   "source": [
    "def fitness_function(vector, weight = 1):\n",
    "    errors = get_errors(key, list(vector))\n",
    "    #fitness = (abs(errors[1]-5e10) +abs(errors[0]-5e10))\n",
    "    #fitness = (abs(errors[1]) + weight*(abs(errors[0]))\n",
    "    fitness = abs(errors[0] - errors[1])\n",
    "    return fitness, errors\n",
    "\n",
    "#def fitness_function(vector, weight = 0.75)"
   ]
  },
  {
   "cell_type": "code",
   "execution_count": null,
   "metadata": {},
   "outputs": [],
   "source": [
    "# Blend Crossover\n",
    "def crossover(parent1, parent2):\n",
    "    alpha = 0.3\n",
    "    child = np.zeros(11)\n",
    "    for i in range(11):\n",
    "        max_p = max(parent2[i], parent1[i])\n",
    "        min_p = min(parent2[i], parent1[i])\n",
    "        low = min_p - alpha*(max_p - min_p)\n",
    "        high = max_p + alpha*(max_p - min_p)\n",
    "        child[i] = np.random.uniform(low = low, high = high)\n",
    "    return child"
   ]
  },
  {
   "cell_type": "code",
   "execution_count": null,
   "metadata": {},
   "outputs": [],
   "source": [
    "def mutation(vector,prob):\n",
    "    rng = (np.random.uniform(size = 11)) < prob\n",
    "    delta = rng*np.random.uniform(low = -0.07, high = 0.07, size = 11)\n",
    "    vector = vector + delta*vector\n",
    "    return vector"
   ]
  },
  {
   "cell_type": "code",
   "execution_count": null,
   "metadata": {},
   "outputs": [],
   "source": [
    "def get_next_pop(initial_pop, fitness, errors, n_parents = n_parents):\n",
    "    log = {\"initial_pop\": initial_pop, \"mutations\": False, \"parents\": [], \"next_pop\": []}\n",
    "    \n",
    "    triple = sorted(list(zip(initial_pop, fitness, errors)), key = lambda x:  x[1])\n",
    "    fitness = np.array(sorted(fitness))\n",
    "    p = [(1/i)/np.sum(1/fitness[:pool_size]) for i in fitness[:pool_size]]\n",
    "    \n",
    "    next_fitness = []\n",
    "    next_errors = []\n",
    "    next_pop = []\n",
    "    parents = []\n",
    "    mutations = []\n",
    "    \n",
    "    for _ in range(population-n_parents):\n",
    "        parent1 = np.array(triple[np.random.choice(range(pool_size), p = p)][0])\n",
    "        parent2 = np.array(triple[np.random.choice(range(pool_size), p = p)][0])\n",
    "        parents.append((parent1, parent2))\n",
    "        \n",
    "        child = crossover(parent1, parent2)\n",
    "        if(np.random.uniform() < .5 or (list(parent1) == list(parent2))):\n",
    "            mutations.append(child)\n",
    "            child = mutation(child, prob = 1)\n",
    "        else:\n",
    "            mutations.append(False)\n",
    "            \n",
    "        c_fitness, c_error = fitness_function(child)\n",
    "        next_fitness.append(c_fitness)\n",
    "        next_errors.append(c_error)\n",
    "        next_pop.append(child)\n",
    "    \n",
    "    for i in range(n_parents):\n",
    "        # print(i, initial_pop[i], errors[i])\n",
    "        next_pop.append(np.array(triple[i][0]))\n",
    "        next_fitness.append(triple[i][1])\n",
    "        next_errors.append(triple[i][2])\n",
    "       \n",
    "    log[\"errors\"] = next_errors\n",
    "    log[\"fitness\"] = next_fitness\n",
    "    log[\"parents\"] = parents\n",
    "    log[\"next_pop\"] = next_pop\n",
    "    log[\"mutations\"] = mutations\n",
    "    \n",
    "    f = open(f'{path}/{time.time()}.txt', 'wb')\n",
    "    pickle.dump(log, f)\n",
    "    return log"
   ]
  },
  {
   "cell_type": "code",
   "execution_count": null,
   "metadata": {},
   "outputs": [],
   "source": [
    "#function to get best_vectors from every generation (sorting based on validation error and fitness function)\n",
    "def get_best_vector(new_log):\n",
    "    #zip vectors(next_pop), fitness, errors into 1 to sort based on validation error\n",
    "    zip_log = zip(new_log[\"next_pop\"],new_log[\"fitness\"],new_log[\"errors\"])\n",
    "    temp_log = np.array(sorted(zip_log, key = lambda x : x[1]))\n",
    "    print('Train Error :',temp_log[0][2][0]/1e11,'1e11')\n",
    "    print('Validation Error :',temp_log[0][2][1]/1e11,'1e11')\n",
    "    return temp_log[0] #returns"
   ]
  },
  {
   "cell_type": "code",
   "execution_count": null,
   "metadata": {},
   "outputs": [],
   "source": [
    "def genetic_algorithm(pop, fitness, errors, n = 1):\n",
    "    log1 = []\n",
    "    for _ in range(n):\n",
    "        log = get_next_pop(pop, fitness, errors)\n",
    "        pop = np.array(log[\"next_pop\"])\n",
    "        fitness = log[\"fitness\"]\n",
    "        errors = log[\"errors\"]\n",
    "        log1.append(log)\n",
    "        a = get_best_vector(log)\n",
    "        print(len(a)) \n",
    "        best_logs.append(a)\n",
    "        \n",
    "    return log1"
   ]
  },
  {
   "cell_type": "markdown",
   "metadata": {},
   "source": [
    "### To start with new vectors"
   ]
  },
  {
   "cell_type": "code",
   "execution_count": null,
   "metadata": {},
   "outputs": [],
   "source": [
    "# If training has to start from the initial given overfit vector\n",
    "if(called == 1):\n",
    "    new_logs = get_initial_logs(population)\n",
    "    logs.append(new_logs)\n",
    "    fitness_gens.append(np.median(new_logs[\"fitness\"]))\n",
    "    best_errors.append(sorted(new_logs[\"errors\"], key = lambda x: x[1])[0])\n",
    "    next_pop, fitness, errors = logs[-1][\"next_pop\"], logs[-1][\"fitness\"], logs[-1][\"errors\"]\n",
    "    called = 0\n",
    "    print(best_errors)\n",
    "    print(fitness_gens)\n",
    "    print(\"Done\")"
   ]
  },
  {
   "cell_type": "code",
   "execution_count": null,
   "metadata": {
    "scrolled": true
   },
   "outputs": [],
   "source": [
    "# to load logs from a text file and train further (not from the start)\n",
    "next_pop, fitness, errors = np.array(logs[-1][\"next_pop\"]), logs[-1][\"fitness\"], logs[-1][\"errors\"]"
   ]
  },
  {
   "cell_type": "code",
   "execution_count": null,
   "metadata": {},
   "outputs": [],
   "source": [
    "new_logs = genetic_algorithm(next_pop, fitness, errors,1)"
   ]
  },
  {
   "cell_type": "code",
   "execution_count": null,
   "metadata": {},
   "outputs": [],
   "source": [
    "logs.extend(new_logs)"
   ]
  }
 ],
 "metadata": {
  "kernelspec": {
   "display_name": "Python 3",
   "language": "python",
   "name": "python3"
  },
  "language_info": {
   "codemirror_mode": {
    "name": "ipython",
    "version": 3
   },
   "file_extension": ".py",
   "mimetype": "text/x-python",
   "name": "python",
   "nbconvert_exporter": "python",
   "pygments_lexer": "ipython3",
   "version": "3.8.5"
  }
 },
 "nbformat": 4,
 "nbformat_minor": 2
}
